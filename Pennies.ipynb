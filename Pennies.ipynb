{
  "nbformat": 4,
  "nbformat_minor": 0,
  "metadata": {
    "colab": {
      "name": "Pennies.ipynb",
      "provenance": [],
      "authorship_tag": "ABX9TyOdkO+PebyR/gRTjeMFHgRk",
      "include_colab_link": true
    },
    "kernelspec": {
      "name": "python3",
      "display_name": "Python 3"
    }
  },
  "cells": [
    {
      "cell_type": "markdown",
      "metadata": {
        "id": "view-in-github",
        "colab_type": "text"
      },
      "source": [
        "<a href=\"https://colab.research.google.com/github/KevinCantrell/Pennies/blob/master/Pennies.ipynb\" target=\"_parent\"><img src=\"https://colab.research.google.com/assets/colab-badge.svg\" alt=\"Open In Colab\"/></a>"
      ]
    },
    {
      "cell_type": "code",
      "metadata": {
        "id": "5QES8C7WFs8X",
        "colab_type": "code",
        "colab": {
          "base_uri": "https://localhost:8080/",
          "height": 246
        },
        "outputId": "9d916aa6-eefa-4d3c-9ef1-bb7288f12534"
      },
      "source": [
        "import tkinter as tk\n",
        "from tkinter.filedialog import askopenfilename\n",
        "import pandas as pd\n",
        "import seaborn as sns\n",
        "\n",
        "\n",
        "#file_path = askopenfilename(filetypes=[('Excel files', '.xlsx'),('all files', '.*')])\n",
        "\n",
        "#pennyDF=pd.read_excel(file_path,header=None)\n",
        "pennyDF=pd.read_excel(file_path)\n",
        "#pennyDF.columns=['year','mass']\n",
        "typeSummary=pennyDF.groupby(['Type']).describe()\n",
        "pennyDF.boxplot(column=\"Light\",by=['Type'])\n",
        "pennyDF.hist(column='Mass',bins=50)\n",
        "\n",
        "#pennyDF['type']='Cu'\n",
        "#pennyDF.loc[pennyDF['Mass']<2.8,'type']='Zn'\n",
        "typeSummary=pennyDF.groupby(['Type'])['Light'].describe()\n",
        "pennyDF.hist(column='Mass',by='Type',bins=50,sharex=True,layout=(2,1))\n",
        "fullSummary=pennyDF.groupby(['Type','Year'])['Mass'].describe()\n",
        "anaSummary=pennyDF.groupby(['Type','Analyst'])['Light'].describe()\n",
        "pennyDF.boxplot(by=['Type','Year'],rot=45,grid=False)\n",
        "pennyDF[\"Mass\"][pennyDF['Type']==\"Cu\"].skew()\n",
        "pennyDF[\"Mass\"][pennyDF['Type']==\"Zn\"].skew()\n",
        "\n",
        "sns.set_style('darkgrid')\n",
        "sns.distplot(pennyDF[\"Dia\"][pennyDF['Type']==\"Cu\"],bins=50)\n",
        "sns.distplot(pennyDF[\"Dia\"][pennyDF['Type']==\"Zn\"],bins=50)\n"
      ],
      "execution_count": 2,
      "outputs": [
        {
          "output_type": "error",
          "ename": "NameError",
          "evalue": "ignored",
          "traceback": [
            "\u001b[0;31m---------------------------------------------------------------------------\u001b[0m",
            "\u001b[0;31mNameError\u001b[0m                                 Traceback (most recent call last)",
            "\u001b[0;32m<ipython-input-2-5d292f4bfba8>\u001b[0m in \u001b[0;36m<module>\u001b[0;34m()\u001b[0m\n\u001b[1;32m      8\u001b[0m \u001b[0;34m\u001b[0m\u001b[0m\n\u001b[1;32m      9\u001b[0m \u001b[0;31m#pennyDF=pd.read_excel(file_path,header=None)\u001b[0m\u001b[0;34m\u001b[0m\u001b[0;34m\u001b[0m\u001b[0;34m\u001b[0m\u001b[0m\n\u001b[0;32m---> 10\u001b[0;31m \u001b[0mpennyDF\u001b[0m\u001b[0;34m=\u001b[0m\u001b[0mpd\u001b[0m\u001b[0;34m.\u001b[0m\u001b[0mread_excel\u001b[0m\u001b[0;34m(\u001b[0m\u001b[0mfile_path\u001b[0m\u001b[0;34m)\u001b[0m\u001b[0;34m\u001b[0m\u001b[0;34m\u001b[0m\u001b[0m\n\u001b[0m\u001b[1;32m     11\u001b[0m \u001b[0;31m#pennyDF.columns=['year','mass']\u001b[0m\u001b[0;34m\u001b[0m\u001b[0;34m\u001b[0m\u001b[0;34m\u001b[0m\u001b[0m\n\u001b[1;32m     12\u001b[0m \u001b[0mtypeSummary\u001b[0m\u001b[0;34m=\u001b[0m\u001b[0mpennyDF\u001b[0m\u001b[0;34m.\u001b[0m\u001b[0mgroupby\u001b[0m\u001b[0;34m(\u001b[0m\u001b[0;34m[\u001b[0m\u001b[0;34m'Type'\u001b[0m\u001b[0;34m]\u001b[0m\u001b[0;34m)\u001b[0m\u001b[0;34m.\u001b[0m\u001b[0mdescribe\u001b[0m\u001b[0;34m(\u001b[0m\u001b[0;34m)\u001b[0m\u001b[0;34m\u001b[0m\u001b[0;34m\u001b[0m\u001b[0m\n",
            "\u001b[0;31mNameError\u001b[0m: name 'file_path' is not defined"
          ]
        }
      ]
    }
  ]
}